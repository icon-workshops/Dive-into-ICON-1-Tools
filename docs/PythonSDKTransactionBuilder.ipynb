{
 "cells": [
  {
   "cell_type": "markdown",
   "metadata": {},
   "source": [
    "# TransactionBuilder\n",
    "\n",
    "Generate transaction for icx transfer"
   ]
  },
  {
   "cell_type": "code",
   "execution_count": 55,
   "metadata": {},
   "outputs": [
    {
     "name": "stdout",
     "output_type": "stream",
     "text": [
      "{'from_': <iconsdk.wallet.wallet.KeyWallet object at 0x103b58da0>, 'to': <iconsdk.wallet.wallet.KeyWallet object at 0x103b58470>, 'value': None, 'step_limit': 1000000000, 'nid': 3, 'nonce': None, 'version': None, 'timestamp': None}\n",
      "--------------------------------------------------------------------------------\n",
      "{'version': '0x3', 'from': <iconsdk.wallet.wallet.KeyWallet object at 0x103b58da0>, 'to': <iconsdk.wallet.wallet.KeyWallet object at 0x103b58470>, 'stepLimit': '0x3b9aca00', 'timestamp': '0x581aad68b95c9', 'nid': '0x3', 'signature': 'tdDOPYd+TMTO0HjU0FDoHV8VgUCv52Jk5ShTCwmJFoh7C1+d7i2FmGd4n10EzAGoALHfSIU+3FP/wwKrfGXYZwE='}\n"
     ]
    }
   ],
   "source": [
    "from iconsdk.builder.transaction_builder import TransactionBuilder\n",
    "from iconsdk.signed_transaction import SignedTransaction\n",
    "from iconsdk.wallet.wallet import KeyWallet\n",
    "\n",
    "from_wallet = KeyWallet.create()\n",
    "to_wallet = KeyWallet.create()\n",
    "\n",
    "transaction = TransactionBuilder() \\\n",
    "            .from_(from_wallet) \\\n",
    "            .to(to_wallet) \\\n",
    "            .nid(3) \\\n",
    "            .step_limit(1000000000) \\\n",
    "            .build()\n",
    "\n",
    "print(transaction.to_dict())\n",
    "\n",
    "signed_transaction = SignedTransaction(transaction, from_wallet)\n",
    "print('-'*80)\n",
    "print(signed_transaction.signed_transaction_dict)"
   ]
  },
  {
   "cell_type": "markdown",
   "metadata": {
    "collapsed": true
   },
   "source": [
    "# CallTransactionBuilder\n",
    "\n",
    "Generate transaction for invoking SCORE external method"
   ]
  },
  {
   "cell_type": "code",
   "execution_count": 54,
   "metadata": {},
   "outputs": [
    {
     "name": "stdout",
     "output_type": "stream",
     "text": [
      "{'from_': <bound method KeyWallet.get_address of <iconsdk.wallet.wallet.KeyWallet object at 0x103b87438>>, 'to': <bound method KeyWallet.get_address of <iconsdk.wallet.wallet.KeyWallet object at 0x1048f9198>>, 'value': None, 'step_limit': 1000000000, 'nid': 3, 'nonce': None, 'version': None, 'timestamp': None, 'method': 'method_name', 'data_type': 'call', 'params': {'key': 'value'}}\n",
      "--------------------------------------------------------------------------------\n",
      "{'version': '0x3', 'from': <bound method KeyWallet.get_address of <iconsdk.wallet.wallet.KeyWallet object at 0x103b87438>>, 'to': <bound method KeyWallet.get_address of <iconsdk.wallet.wallet.KeyWallet object at 0x1048f9198>>, 'stepLimit': '0x3b9aca00', 'timestamp': '0x581aad6716c67', 'nid': '0x3', 'dataType': 'call', 'data': {'method': 'method_name', 'params': {'key': 'value'}}, 'signature': 'Q//TtcRaWh2/mGoGFl5DF0js+uk1bYC48ZoBA2Kujmo8ps3qpEz6xjin/+OKubo18av7zR9uGWaIcUSNiPMBHwA='}\n"
     ]
    }
   ],
   "source": [
    "from iconsdk.builder.transaction_builder import CallTransactionBuilder\n",
    "from iconsdk.signed_transaction import SignedTransaction\n",
    "from iconsdk.wallet.wallet import KeyWallet\n",
    "\n",
    "from_wallet = KeyWallet.create()\n",
    "to_wallet = KeyWallet.create()\n",
    "\n",
    "transaction = CallTransactionBuilder()\\\n",
    "            .from_(from_wallet.get_address)\\\n",
    "            .to(to_wallet.get_address)\\\n",
    "            .nid(3)\\\n",
    "            .step_limit(1000000000)\\\n",
    "            .method('method_name')\\\n",
    "            .params({'key':'value'})\\\n",
    "            .build()\n",
    "\n",
    "print(transaction.to_dict())\n",
    "\n",
    "signed_transaction = SignedTransaction(transaction, from_wallet)\n",
    "\n",
    "print('-'*80)\n",
    "print(signed_transaction.signed_transaction_dict)"
   ]
  },
  {
   "cell_type": "markdown",
   "metadata": {},
   "source": [
    "# DeployTransactionBuilder\n",
    "\n",
    "Generate transaction for SCORE deployment"
   ]
  },
  {
   "cell_type": "code",
   "execution_count": 53,
   "metadata": {},
   "outputs": [
    {
     "name": "stdout",
     "output_type": "stream",
     "text": [
      "{'from_': <iconsdk.wallet.wallet.KeyWallet object at 0x1048e1eb8>, 'to': 'cx0000000000000000000000000000000000000000', 'value': None, 'step_limit': 100000000000, 'nid': 3, 'nonce': 100, 'version': None, 'timestamp': None, 'content_type': 'application/zip', 'content': b'PK\\x03\\x04\\x14\\x00\\x00\\x00\\x08\\x00\\x17\\x8cKNT\\xfc\\xe1\\x86\\x01\\x04\\x00\\x00\\xd4\\x0c\\x00\\x00_\\x00\\x00\\x00Users/life4honor/PycharmProjects/customizedirc2token/customizedirc2token/customizedirc2token.py\\xa5Vm\\x8f\\x1a7\\x10\\xfe\\xce\\xaf\\x98\\x92\\x0f,W\\x82r\\xe97\\x14\\xa2r@+$\\x92\\x8b\\n\\x89TU\\xa7=\\xef\\xee\\x00\\xd6-6\\xb2\\xcd\\xf5\\xc8\\xe9\\xfe{\\xc7\\xde\\xf5\\xbe\\x01\\x17\\xda\\xfa\\xcb\\xae_\\xe6\\x99\\x99g^\\xec\\x95\\x92[\\xe0\\xb1\\x14\\x1a\\xd5#\\x8f\\x11\\xf8v\\'\\x95\\x81\\xabVk9\\xfa\\x1d\\x86\\xd0\\x19\\xef\\xb5\\x91[\\xfe\\x1d\\x93\\xa5|@\\xd1i\\xb5Zq\\xca\\xb4\\x067\\xfd\\x8d\\xa5i\\xc4\\xe2\\x87\\x990\\xa8V,\\xc6\\xa0\\xf8[\\xc4Raw\\xd0\\x02\\x1a\\xbfr\\xbf\\xea\\xa6\\t\\xae\\xc0T\\xc5\\x03\\x8d\\xe9\\xaa\\x07\\xe1\\x8a\\xcc\\x19\\xc0(I\\x14jM\\xf3G\\x96\\xeeq\\x00$M\\x93\\x84\\x196\\x80\\xe8`P\\xe7\\xb0v\\xec\\xc8\\x96\\xc2\\xa6\\x86\\xb1\\xc1\\x8c<sv\\xdc0\\xedm\\toF\\xf3\\xd1\\xe7\\xf1ta\\xbd\\x8bX\\xcaD\\x8c\\xba\\x93m-o\\x97\\xa3y\\xb8\\xf8\\xfa\\xe5\\xcb\\xfcO\\xbbm\\xa4ai\\xa8\\xf7\\xbb]z\\xc8\\x8fL\\xa6\\xe3\\xd9\\xa7\\xd1\\xdcI\\'\\x18\\xf3-KI:\\xf3\\x12\\x1fQ\\x98T\\xae\\x03.\\x12|\\xc2d\\xf8K\\xb7\\xf0w\\xa9\\x98\\xd0+T\\xe7\\\\5\\xf2?9\\xee\\xe1\\xc3\\x90\\x0bn\\xc20\\x87O\\xa2\\x01\\x14\\xceOH>\\xb2\\x04\\xc0\\xdb\\x8f\\xf0Y\\n,A\\xc852\\xa9\\xdb/\\xc4\\x93\\xa8[n\\x12T?\\xacr@N\\x7fcjr\\x13d[U\\xba\\xac\\xce\\x1e8\\xbbCs\\xd8\\xe1\\x90loBy\\xbe\\x1a0\\x9e\\xd2K |\\xc0\\x08b\\xc2cS`\\xf8\\xa0\\x9e\\xc6(h\\x92\\x82\\x1c\\xd5\\xe4P\\xea\\xe3`\\xfd\\xe6,]8\\xff\\x1c\\xe3\\x04}\\xfd\\xce\\xd2\\x9e[[,\\xbe\\xc2_\\x057\\xd7f\\x07_5\\xf0\\xe1\\x03\\xbc+\\x85\\xedP\\x943\\xca\\x04\\xedYv\\x0cr\\x9ec&\\x844\\x10!\\xa4\\x94\\x10`6L\\xc0wT\\xb2\\xdd@/\\x18=\\x0b<\\xf1\\'^\\x81<\\x89\\xf8\\x11\\xde__\\x0c\\xb9\\xa54\\xcb \\xdf_Wml$O\\x83\\x8d+\"\\x1a\\xae\\xaeJ\\xa5\\x85\\xdc\\\\\\xae\\xd7\\xa8\\xfa\\tF\\xfbu\\xb0\\xea\\x94\\xf4\\x0ej\\x90\\xc3\\xe7\\xea\\xec\\xa5\\xd3\\x03\\xeaZ\\x15\\xf5\\xc7\\x19\\xdc\\xd7h\\x82\\xea\\xc2\\xb9\\x1cu\\x07\\x8b\\xd9\\xb94\\xfc\\xcbM\\xb7zM\\xc7\\xa9\\xe6\\xd5\\x1d9YE\\xafe\\xde~G\\x95\\x8c.\\xf1^O\\xa5\\xfc`\\xd7\\xb7\\x95\\'j\\x9e\\x82\\xa5\\x81B\\x96HAn/\\xd5\\x1e\\xcb\\xd6\"\\xd8\\xb6\\x82\\xaa\\x8d*A\\x15\\x9a\\xbd\\x12\\xd0^\\xb0\\xed.E\\xd7\\x14\\xdb\\x17\\xa2\\xea\\xc36\\x92\\xe9\\x8fp\\x97\\x97\\xc2y&K@\\xaa\\xaa#\\xc0F\\x0c\\xd6\\x14\\x83KYp\\xb4g\\x89u\\x89\\x8eZR\\xfc\\x1b=y\\xe8oW\\xbe\\x83\\xc8\\xbf\\x05\\xaa\\xa2y\\xff@m\\x918\\x99\\xd8]Ci\\xe9M\\xe3\\xba\\xb8\\xecz\\xa0\\xec\\xb3IU\\xb9%\\\\I\\xd3\\x01\\xe0\\xba\\x91ovd[C\\x88:v\\xaf\\xd3\\xac\\x9b\\xaa\\r\\x95$w\\xe6x+r\\x03*=6l\\xda\\xfe\\xbf\\xaf\\xba\\xc2\\x89\\x9f\\nS\\xeb~\\x18u\\xa8/\\xd8\\x11\\xa52~\\x087\\xc8\\xd7\\x1b\\xdb\\xbeIA\\xe0P\\xa8\\xab\\xc42\\xa1\\xf2\\xea\\x1e\\x89\\x90\\xa2\\x9a\\xd4\\x87\\x8c\\t\\xb7\\xd6\\xcf\\xd6\\x8e\\xf5d1\\xceZ\\xe3x\\xaf\\x14\\xbd\\x012\\x94\\x8e\\x86\\x1c\\x07\\x9fb\\xc4\\x04\\x13j\\x91H\\x1ci\\xbe\\x16T\\xe0\\t\\xfd\\xb2$\\xe5\\x02\\xdbuS\\xec\\xf1\\x9d\\x81\\xa9\\xfbp)\\x8eu\\x96\\x97\\xbf\\x1do`\\xbc\\xc1\\xf8A;x\\x1b#.\\xd6\\xd9\\x1d\\x08L$>c\\xfb5>\\xb3\\xed\\xb3\\xd7\\x86\\x7f\\xae\\xa8\\x12\\xea\\xb2\\x0b\\xa4\\x99\\xe66\\xf8w\\xa4\\'\\x8f\\xf3Ie\\xb7{\\x03\\xb2\\xa8\\xac\\xf6Q\\x03o\\xa2\\r\\xcf\\xac\\xbf\\xcd\\xb5\\x9c\\x157\\xf2\\x94\\xb0]\\xfd\\xd9\\x8b\\xd6H2\\xb2\\xcfuH\\xef(J\\xe9\\xb8\\x11\\xfa70[9\\xc2\\x15u\\xab\\x1d\\xb7Q\\xa7\\x1a[\\x8co\\xff\\x98\\xf6\\x1a\\x07\\xc1\\x9e\\x13D`J\\x97\\xe6}\\xed\\xe5{O}\\x0b66J\\x92\\xb8\\x00\\xa7J\\xa6\\xfd\\x06M\\xb9\\x82P\\xdb\\xe7\\x9c\\xf7 \\xa6\\x06e0,\\x9e\\xd6\\xd9n\\xe0j\\xf3\\xf4\\xe3\\xbc\\xfb\\x1al\\xbf\\xfe\"w\\x94\\x9e.\\xf2\\xcc\\xa9\\xe9\\x96\\x1bM\\xf9\\x05\\xee\\xd5\\x0b\\xf4\\xec\\x85{\\x9f5\\xf7\\xf5\\x08\\x14o_\\x0fz\\xa2}x\\x81\\xc6\\xcd_\\x88>;\\xd9\\x97\\x1e<\\x93\\xb4\\xfb8y\\xf7g\\x11^\\xba\\xfe\\xf6\\xff\\x07PK\\x03\\x04\\x14\\x00\\x00\\x00\\x08\\x00\\xef~KN\\x00\\x00\\x00\\x00\\x02\\x00\\x00\\x00\\x00\\x00\\x00\\x00T\\x00\\x00\\x00Users/life4honor/PycharmProjects/customizedirc2token/customizedirc2token/__init__.py\\x03\\x00PK\\x03\\x04\\x14\\x00\\x00\\x00\\x08\\x00\\xef~KN\\xae\\xcb9dI\\x00\\x00\\x00g\\x00\\x00\\x00U\\x00\\x00\\x00Users/life4honor/PycharmProjects/customizedirc2token/customizedirc2token/package.json\\xab\\xe6R\\x00\\x02\\xa5\\xb2\\xd4\\xa2\\xe2\\xcc\\xfc<%+\\x05%\\x03=\\x03=C%\\x1d\\x88xnbf^|ZfN*H&\\xb9\\xb4\\xb8$?7\\xb3*5%\\xb3(\\xd9\\xa8$?;5\\x0fE]qr~\\x11X\\xa13\\\\a\\x08X\\x11W-\\x00PK\\x01\\x02\\x14\\x03\\x14\\x00\\x00\\x00\\x08\\x00\\x17\\x8cKNT\\xfc\\xe1\\x86\\x01\\x04\\x00\\x00\\xd4\\x0c\\x00\\x00_\\x00\\x00\\x00\\x00\\x00\\x00\\x00\\x00\\x00\\x00\\x00\\xa4\\x81\\x00\\x00\\x00\\x00Users/life4honor/PycharmProjects/customizedirc2token/customizedirc2token/customizedirc2token.pyPK\\x01\\x02\\x14\\x03\\x14\\x00\\x00\\x00\\x08\\x00\\xef~KN\\x00\\x00\\x00\\x00\\x02\\x00\\x00\\x00\\x00\\x00\\x00\\x00T\\x00\\x00\\x00\\x00\\x00\\x00\\x00\\x00\\x00\\x00\\x00\\xa4\\x81~\\x04\\x00\\x00Users/life4honor/PycharmProjects/customizedirc2token/customizedirc2token/__init__.pyPK\\x01\\x02\\x14\\x03\\x14\\x00\\x00\\x00\\x08\\x00\\xef~KN\\xae\\xcb9dI\\x00\\x00\\x00g\\x00\\x00\\x00U\\x00\\x00\\x00\\x00\\x00\\x00\\x00\\x00\\x00\\x00\\x00\\xa4\\x81\\xf2\\x04\\x00\\x00Users/life4honor/PycharmProjects/customizedirc2token/customizedirc2token/package.jsonPK\\x05\\x06\\x00\\x00\\x00\\x00\\x03\\x00\\x03\\x00\\x92\\x01\\x00\\x00\\xae\\x05\\x00\\x00\\x00\\x00', 'data_type': 'deploy', 'params': None}\n",
      "--------------------------------------------------------------------------------\n",
      "{'version': '0x3', 'from': <iconsdk.wallet.wallet.KeyWallet object at 0x1048e1eb8>, 'to': 'cx0000000000000000000000000000000000000000', 'stepLimit': '0x174876e800', 'timestamp': '0x581aad4e361ac', 'nid': '0x3', 'nonce': '0x64', 'dataType': 'deploy', 'data': {'contentType': 'application/zip', 'content': '0x504b0304140000000800178c4b4e54fce18601040000d40c00005f00000055736572732f6c69666534686f6e6f722f5079636861726d50726f6a656374732f637573746f6d697a656469726332746f6b656e2f637573746f6d697a656469726332746f6b656e2f637573746f6d697a656469726332746f6b656e2e7079a5566d8f1a3710feceaf98920f2c578272e93714a272402b24928b0a895455a73defee00d62d36b2cdf5c8e9fe7bc7def5be0117dafacbae5fe69999675eec95925be0b1141ad5238f11f876279581ab566b39fa1d86d019efb5915bfe1d93a57c40d169b55a71cab40637fd8da569c4e2879930a8562cc6a0f85bc4526177d0021abf72bfeaa609aec054c5038de9aa07e18acc19c02849146a4df34796ee7100244d9384193680e86050e7b076ecc896c2a686b1c18c3c7376dc30ed6d096f46f3d1e7f17461bd8b58ca448cba936d2d6f97a379b8f8fae5cbfc4fbb6da46169a8f7bb5d7ac88f4ca6e3d9a7d1dc492718f32d4b493af3121f519854ae032e127cc264f84bb7f077a998d02b54e75c35f23f39eee1c3900b6ec230874fa20114ce4f483eb204c0db8ff0590a2c41c83532a9db2fc493a85b6e12543fac72404e7f636a7213645b55baacce1e38bb4373d8e1906c6f4279be1a309ed24b207cc00862c2635360f8a09ec6286892821cd5e450eae360fde62c5d38ff1ce3047dfdced29e5b5b2cbec25f0537d766075f35f0e103bc2b85ed509433ca04ed59760c729e632684341021a4941060364cc07754b2dd402f183d0b3cf1275e813c89f811de5f5f0cb9a534cb20df5f576d6c244f838d2b221aaeae4aa585dc5caed7a8fa0946fb75b0ea94f40e6a90c3e7eaeca5d303ea5a15f5c719dcd76882eac2b91c75078bd9b934fccb4db77a4dc7a9e6d51d395945af65de7e47958c2ef15e4fa5fc60d7b795276a9e82a581429648416e2fd51ecbd622d8b682aa8d2a41159abd12d05eb0ed2e45d714db17a2eac33692e98f709797c279264b40aaaa23c0460cd614834b5970b4678975898e5a52fc1b3d79e86f57be83c8bf05aaa279ff406d913899d85d4369e94de3bab8ec7aa0ecb34955b9255c49d301e0ba916f76645b43883a76afd3ac9baa0d952477e6782b72032a3d366cdafebfafbac2899f0a53eb7e1875a82fd811a5327e0837c8d71bdbbe4941e050a8abc432a1f2ea1e8990a29ad4878c09b7d6cfd68ef56431ce5ae378af14bd0132948e861c079f62c404136a91481c69be1654e009fdb224e502db7553ecf19d81a9fb70298e759697bf1d6f60bcc1f8413b781b232ed6d91d084c243e63fb353eb3edb3d7867faea812eab20ba499e636f877a4278ff34965b77b03b2a8acf651036fa20dcfacbfcdb59c1537f294b05dfdd98bd64832b2cf7548ef284ae9b811fa37305b39c21575ab1db751a71a5b8c6fff98f61a07c19e1344604a97e67dede57b4f7d0b36364a92b800a74aa6fd064db98250dbe79cf720a60665302c9ed6d96ee06af3f4e3bcfb1a6cbffe2277949e2ef2cca9e9961b4df905eed50bf4ec857b9f35f7f508146f5f0f7aa27d7881c6cd5f883e3bd9971e3c93b4fb3879f767115ebafef6ff07504b0304140000000800ef7e4b4e0000000002000000000000005400000055736572732f6c69666534686f6e6f722f5079636861726d50726f6a656374732f637573746f6d697a656469726332746f6b656e2f637573746f6d697a656469726332746f6b656e2f5f5f696e69745f5f2e70790300504b0304140000000800ef7e4b4eaecb396449000000670000005500000055736572732f6c69666534686f6e6f722f5079636861726d50726f6a656374732f637573746f6d697a656469726332746f6b656e2f637573746f6d697a656469726332746f6b656e2f7061636b6167652e6a736f6eabe6520002a5b2d4a2e2ccfc3c252b0525033d033d43251d88786e62665e7c5a664e2a4826b9b4b8243f37b32a3525b328d9a8243f3b350f455d71727e1158a1335c61085811572d00504b01021403140000000800178c4b4e54fce18601040000d40c00005f0000000000000000000000a4810000000055736572732f6c69666534686f6e6f722f5079636861726d50726f6a656374732f637573746f6d697a656469726332746f6b656e2f637573746f6d697a656469726332746f6b656e2f637573746f6d697a656469726332746f6b656e2e7079504b01021403140000000800ef7e4b4e000000000200000000000000540000000000000000000000a4817e04000055736572732f6c69666534686f6e6f722f5079636861726d50726f6a656374732f637573746f6d697a656469726332746f6b656e2f637573746f6d697a656469726332746f6b656e2f5f5f696e69745f5f2e7079504b01021403140000000800ef7e4b4eaecb39644900000067000000550000000000000000000000a481f204000055736572732f6c69666534686f6e6f722f5079636861726d50726f6a656374732f637573746f6d697a656469726332746f6b656e2f637573746f6d697a656469726332746f6b656e2f7061636b6167652e6a736f6e504b0506000000000300030092010000ae0500000000'}, 'signature': '6zBg3+ye4eGYXv6SKoXUkiSJOriyaSBDVk73Q9DetkVFlC78Q6OFACiJr9S2L4vpiS1FZUHsA/quF7wL0hc4qgA='}\n"
     ]
    }
   ],
   "source": [
    "import os\n",
    "\n",
    "from iconsdk.builder.transaction_builder import DeployTransactionBuilder\n",
    "from iconsdk.libs.in_memory_zip import gen_deploy_data_content\n",
    "from iconsdk.signed_transaction import SignedTransaction\n",
    "from iconsdk.wallet.wallet import KeyWallet\n",
    "\n",
    "SCORE_INSTALL_ADDRESS = 'cx' + '0'*40\n",
    "SCORE_PROJECT = os.path.abspath(os.path.join(os.path.curdir, './customizedirc2token'))\n",
    "\n",
    "from_wallet = KeyWallet.create()\n",
    "\n",
    "transaction = DeployTransactionBuilder() \\\n",
    "            .from_(from_wallet) \\\n",
    "            .to(SCORE_INSTALL_ADDRESS) \\\n",
    "            .step_limit(100_000_000_000) \\\n",
    "            .nid(3) \\\n",
    "            .nonce(100) \\\n",
    "            .content_type(\"application/zip\") \\\n",
    "            .content(gen_deploy_data_content(SCORE_PROJECT)) \\\n",
    "            .build()\n",
    "\n",
    "print(transaction.to_dict())\n",
    "\n",
    "signed_transaction = SignedTransaction(transaction, from_wallet)\n",
    "print('-'*80)\n",
    "print(signed_transaction.signed_transaction_dict)"
   ]
  },
  {
   "cell_type": "markdown",
   "metadata": {},
   "source": [
    "# CallBuilder\n",
    "\n",
    "Generate query for invoking SCORE external & read-only method"
   ]
  },
  {
   "cell_type": "code",
   "execution_count": 50,
   "metadata": {},
   "outputs": [
    {
     "name": "stdout",
     "output_type": "stream",
     "text": [
      "{'from_': <iconsdk.wallet.wallet.KeyWallet object at 0x103b7f668>, 'to': 'score_address', 'method': 'method', 'params': {'key': 'value'}}\n"
     ]
    }
   ],
   "source": [
    "from iconsdk.builder.call_builder import CallBuilder\n",
    "from iconsdk.wallet.wallet import KeyWallet\n",
    "\n",
    "from_wallet = KeyWallet.create()\n",
    "\n",
    "call = CallBuilder() \\\n",
    "    .from_(from_wallet) \\\n",
    "    .to('score_address') \\\n",
    "    .method('method') \\\n",
    "    .params({'key':'value'}) \\\n",
    "    .build()\n",
    "\n",
    "call_dict = call.to_dict()\n",
    "print(call_dict)"
   ]
  }
 ],
 "metadata": {
  "kernelspec": {
   "display_name": "Python 3",
   "language": "python",
   "name": "python3"
  },
  "language_info": {
   "codemirror_mode": {
    "name": "ipython",
    "version": 3
   },
   "file_extension": ".py",
   "mimetype": "text/x-python",
   "name": "python",
   "nbconvert_exporter": "python",
   "pygments_lexer": "ipython3",
   "version": "3.7.1"
  }
 },
 "nbformat": 4,
 "nbformat_minor": 1
}
